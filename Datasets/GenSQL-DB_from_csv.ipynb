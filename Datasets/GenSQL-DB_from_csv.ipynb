{
 "cells": [
  {
   "cell_type": "markdown",
   "metadata": {},
   "source": [
    "## Librairies"
   ]
  },
  {
   "cell_type": "code",
   "execution_count": 24,
   "metadata": {},
   "outputs": [],
   "source": [
    "import pandas as pd\n",
    "import matplotlib.pyplot as plt"
   ]
  },
  {
   "cell_type": "markdown",
   "metadata": {},
   "source": [
    "## Sampling the datas"
   ]
  },
  {
   "cell_type": "code",
   "execution_count": 25,
   "metadata": {},
   "outputs": [],
   "source": [
    "\n",
    "dataset_details = pd.read_csv(\"./details.csv\")\n",
    "dataset_details_sample = dataset_details.head(10)\n",
    "dataset_rates = pd.read_csv(\"./ratings.csv\")\n",
    "dataset_rates_sample = dataset_rates.head(10)\n",
    "\n",
    "dataset_details_sample = dataset_details_sample.rename(columns={\"num\": \"id_category\"})\n",
    "dataset_rates_sample = dataset_rates_sample.rename(columns={\"num\": \"id_rate\"})\n",
    "\n",
    "\n",
    "\n",
    "result = pd.concat([dataset_details_sample, dataset_rates_sample], axis=1)\n",
    "\n",
    "# Nettoyage des colonnes dupliquées éventuelles\n",
    "result = result.loc[:, ~result.columns.duplicated()]"
   ]
  },
  {
   "cell_type": "markdown",
   "metadata": {},
   "source": [
    "## SQL script generation  - insert into "
   ]
  },
  {
   "cell_type": "code",
   "execution_count": 26,
   "metadata": {},
   "outputs": [],
   "source": [
    "def escape_sql_string(value):\n",
    "    \"\"\"\n",
    "    Échappe les apostrophes et nettoie les sauts de ligne pour éviter les erreurs SQL.\n",
    "    \"\"\"\n",
    "    if value is None or str(value).lower() == 'nan':\n",
    "        return 'NULL'\n",
    "    return \"'\" + str(value).replace(\"'\", \"''\").replace(\"\\n\", \" \").replace(\"\\r\", \"\") + \"'\""
   ]
  },
  {
   "cell_type": "markdown",
   "metadata": {},
   "source": [
    "#### Games"
   ]
  },
  {
   "cell_type": "code",
   "execution_count": 27,
   "metadata": {},
   "outputs": [],
   "source": [
    "with open(\"../SQL_scripts/insert_games.sql\", \"w\") as f:\n",
    "    f.write(\"INSERT INTO Games (id_game, name_game, year_game, url, thumbnail, description, boardgamemechanic, boardgamefamily, boardgameexpansion, boardgameimplementation, boardgamepublisher, boardgameartist, boardgamedesigner, id_rules) VALUES\\n\")\n",
    "    \n",
    "    id_rules = 0\n",
    "    rows = []\n",
    "    \n",
    "    for index, row in result.iterrows():   \n",
    "        line = \"(\" + \\\n",
    "               str(row[\"id\"]) + \", \" + \\\n",
    "               escape_sql_string(row[\"primary\"]) + \", \" + \\\n",
    "               str(row[\"yearpublished\"]) + \", \" + \\\n",
    "               escape_sql_string(row[\"url\"]) + \", \" + \\\n",
    "               escape_sql_string(row[\"thumbnail\"]) + \", \" + \\\n",
    "               escape_sql_string(row[\"description\"]) + \", \" + \\\n",
    "               escape_sql_string(row[\"boardgamemechanic\"]) + \", \" + \\\n",
    "               escape_sql_string(row[\"boardgamefamily\"]) + \", \" + \\\n",
    "               escape_sql_string(row[\"boardgameexpansion\"]) + \", \" + \\\n",
    "               escape_sql_string(row[\"boardgameimplementation\"]) + \", \" + \\\n",
    "               escape_sql_string(row[\"boardgamepublisher\"]) + \", \" + \\\n",
    "               escape_sql_string(row[\"boardgameartist\"]) + \", \" + \\\n",
    "               escape_sql_string(row[\"boardgamedesigner\"]) + \", \" + \\\n",
    "               str(id_rules) + \")\"\n",
    "        rows.append(line)\n",
    "        id_rules += 1\n",
    "\n",
    "    f.write(\",\\n\".join(rows) + \";\\n\")\n"
   ]
  },
  {
   "cell_type": "code",
   "execution_count": 28,
   "metadata": {},
   "outputs": [
    {
     "data": {
      "text/plain": [
       "'\"result = result.loc[:, ~result.columns.duplicated()]\\n\\nwith open(\"../SQL_scripts/insert_games.sql\", \"w\") as f:\\n    f.write(\"INSERT INTO Games (id_game, name_game, year_game, url, thumbnail, description, boardgamemechanic, boardgamefamily, boardgameexpansion, boardgameimplementation, boardgamepublisher, boardgameartist, boardgamedesigner, id_rules,) VALUES\")\\n    id_rules = 0\\n    for index, row in result.iterrows():   \\n        print(type(row[\\'id\\']))\\n        print(row[\\'id\\'])\\n        f.write(\"(\" + str(row[\"id\"]) + \", \" + str(row[\"primary\"]) + \", \" + str(row[\"yearpublished\"]) + \", \" + str(row[\"url\"]) + \", \"+ str(row[\"thumbnail\"]) + \", \" + str(row[\"description\"]) + \", \" + str(row[\"boardgamemechanic\"]) + \", \"+ str(row[\"boardgamefamily\"]) + \", \" + str(row[\"boardgameexpansion\"]) + \", \" + str(row[\"boardgameimplementation\"]) + \",\" + str(row[\"boardgamepublisher\"]) + \", \" + str(row[\"boardgameartist\"]) + \", \" + str(row[\"boardgamedesigner\"]) + \", \" + str(id_rules)+ \"),\\n\")\\n        id_rules +=1\\n    f.write(\";\")\\nf.close()'"
      ]
     },
     "execution_count": 28,
     "metadata": {},
     "output_type": "execute_result"
    }
   ],
   "source": [
    "\"\"\"\"result = result.loc[:, ~result.columns.duplicated()]\n",
    "\n",
    "with open(\"../SQL_scripts/insert_games.sql\", \"w\") as f:\n",
    "    f.write(\"INSERT INTO Games (id_game, name_game, year_game, url, thumbnail, description, boardgamemechanic, boardgamefamily, boardgameexpansion, boardgameimplementation, boardgamepublisher, boardgameartist, boardgamedesigner, id_rules,) VALUES\")\n",
    "    id_rules = 0\n",
    "    for index, row in result.iterrows():   \n",
    "        print(type(row['id']))\n",
    "        print(row['id'])\n",
    "        f.write(\"(\" + str(row[\"id\"]) + \", \" + str(row[\"primary\"]) + \", \" + str(row[\"yearpublished\"]) + \", \" + str(row[\"url\"]) + \", \"+ str(row[\"thumbnail\"]) + \", \" + str(row[\"description\"]) + \", \" + str(row[\"boardgamemechanic\"]) + \", \"+ str(row[\"boardgamefamily\"]) + \", \" + str(row[\"boardgameexpansion\"]) + \", \" + str(row[\"boardgameimplementation\"]) + \",\" + str(row[\"boardgamepublisher\"]) + \", \" + str(row[\"boardgameartist\"]) + \", \" + str(row[\"boardgamedesigner\"]) + \", \" + str(id_rules)+ \"),\\n\")\n",
    "        id_rules +=1\n",
    "    f.write(\";\")\n",
    "f.close()\"\"\""
   ]
  },
  {
   "cell_type": "markdown",
   "metadata": {},
   "source": [
    "#### Rules"
   ]
  },
  {
   "cell_type": "code",
   "execution_count": 29,
   "metadata": {},
   "outputs": [],
   "source": [
    "with open(\"../SQL_scripts/insert_rules.sql\", \"w\") as f:\n",
    "    f.write(\"INSERT INTO Rules (id_rules, minplayers, maxplayers, minplaytime, maxplaytime, minage) VALUES\\n\")\n",
    "    \n",
    "    id_rules = 0\n",
    "    rows = []\n",
    "    \n",
    "    for index, row in result.iterrows():   \n",
    "        line = \"(\" + \\\n",
    "               str(id_rules) + \", \" + \\\n",
    "               str(row[\"minplayers\"]) + \", \" + \\\n",
    "               str(row[\"maxplayers\"]) + \", \" + \\\n",
    "               str(row[\"minplaytime\"]) + \", \" + \\\n",
    "               str(row[\"maxplaytime\"]) + \", \" + \\\n",
    "               str(row[\"minage\"]) + \")\"\n",
    "        rows.append(line)\n",
    "        id_rules += 1\n",
    "\n",
    "    f.write(\",\\n\".join(rows) + \";\\n\")\n"
   ]
  },
  {
   "cell_type": "markdown",
   "metadata": {},
   "source": [
    "#### Rates"
   ]
  },
  {
   "cell_type": "code",
   "execution_count": 30,
   "metadata": {},
   "outputs": [],
   "source": [
    "with open(\"../SQL_scripts/insert_rates.sql\", \"w\") as f:\n",
    "    f.write(\"INSERT INTO Rates (id_game, id_rate, rank, average, users_rated) VALUES\\n\")\n",
    "    \n",
    "    id_rules = 0\n",
    "    rows = []\n",
    "    \n",
    "    for index, row in result.iterrows():   \n",
    "        line = \"(\" + \\\n",
    "               str(row[\"id\"]) + \", \" + \\\n",
    "               str(row[\"id_rate\"]) + \", \" + \\\n",
    "               str(row[\"rank\"]) + \", \" + \\\n",
    "               str(row[\"average\"]) + \", \" + \\\n",
    "               str(row[\"users_rated\"]) + \")\"\n",
    "        rows.append(line)\n",
    "        id_rules += 1\n",
    "\n",
    "    f.write(\",\\n\".join(rows) + \";\\n\")"
   ]
  },
  {
   "cell_type": "markdown",
   "metadata": {},
   "source": [
    "#### Categories"
   ]
  },
  {
   "cell_type": "code",
   "execution_count": 31,
   "metadata": {},
   "outputs": [],
   "source": [
    "import ast\n",
    "\n",
    "dict_category = {} # category : id\n",
    "id_category = 0\n",
    "for index, row in result.iterrows():\n",
    "    temp_category = ast.literal_eval(row[\"boardgamecategory\"])\n",
    "    #print(temp_category)\n",
    "    for cat in temp_category : \n",
    "        if (not(cat in dict_category)) :\n",
    "            dict_category[cat] = id_category\n",
    "            id_category+=1"
   ]
  },
  {
   "cell_type": "code",
   "execution_count": 32,
   "metadata": {},
   "outputs": [],
   "source": [
    "with open(\"../SQL_scripts/insert_categories.sql\", \"w\") as f:\n",
    "    f.write(\"INSERT INTO Categories (id_category, category) VALUES\\n\")\n",
    "    \n",
    "    rows = []\n",
    " \n",
    "    for val, id in dict_category.items():   \n",
    "        line = \"(\" + str(id) +\", '\"+ str(val)+ \"' )\"\n",
    "        rows.append(line)\n",
    "\n",
    "    f.write(\",\\n\".join(rows) + \";\\n\")"
   ]
  },
  {
   "cell_type": "code",
   "execution_count": 33,
   "metadata": {},
   "outputs": [],
   "source": [
    "with open(\"../SQL_scripts/insert_belongs.sql\", \"w\") as f:\n",
    "    f.write(\"INSERT INTO Belongs (id_category, id_game) VALUES\\n\")\n",
    "    \n",
    "    rows = []\n",
    "    \n",
    "    for index, row in result.iterrows():\n",
    "        temp_category = ast.literal_eval(row[\"boardgamecategory\"])\n",
    "        for cat in temp_category : \n",
    "            line = \"(\" + str(row[\"id\"]) + \", \" + str(dict_category[cat])+ \")\"\n",
    "            rows.append(line)\n",
    "    f.write(\",\\n\".join(rows) + \";\\n\")"
   ]
  },
  {
   "cell_type": "markdown",
   "metadata": {},
   "source": [
    "## Saving"
   ]
  },
  {
   "cell_type": "code",
   "execution_count": 34,
   "metadata": {},
   "outputs": [],
   "source": [
    "# To csv\n",
    "dataset_details_sample.to_csv(\"../Datasets/details_shorten_5k.csv\", index=False)\n",
    "dataset_rates_sample.to_csv(\"../Datasets/ratings_shorten_5k.csv\", index=False)\n"
   ]
  }
 ],
 "metadata": {
  "kernelspec": {
   "display_name": "Python 3",
   "language": "python",
   "name": "python3"
  },
  "language_info": {
   "codemirror_mode": {
    "name": "ipython",
    "version": 3
   },
   "file_extension": ".py",
   "mimetype": "text/x-python",
   "name": "python",
   "nbconvert_exporter": "python",
   "pygments_lexer": "ipython3",
   "version": "3.12.5"
  }
 },
 "nbformat": 4,
 "nbformat_minor": 2
}
